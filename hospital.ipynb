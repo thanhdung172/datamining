{
  "cells": [
    {
      "cell_type": "markdown",
      "metadata": {
        "id": "a7M6NwgvqoXv"
      },
      "source": [
        "Inspired by: https://realpython.com/simpy-simulating-with-python/"
      ]
    },
    {
      "cell_type": "code",
      "execution_count": null,
      "metadata": {
        "id": "voVJMIYyqoX1"
      },
      "outputs": [],
      "source": [
        "# !pip install simpy\n",
        "import simpy\n",
        "import numpy as np\n",
        "import statistics\n",
        "\n",
        "process_times = []\n"
      ]
    },
    {
      "cell_type": "code",
      "execution_count": null,
      "metadata": {
        "id": "_Bm9WXcaqoX3"
      },
      "outputs": [],
      "source": [
        "class Hospital(object):\n",
        "    def __init__(self, env, num_nurses, num_radiologists, num_specialists):\n",
        "        self.env = env\n",
        "        self.nurse = simpy.Resource(env, num_nurses)\n",
        "        self.radiologist = simpy.Resource(env, num_radiologists)\n",
        "        self.specialist = simpy.Resource(env, num_specialists)\n",
        "\n",
        "    def check_vitals(self, patient):\n",
        "        yield self.env.timeout(np.random.randint(5, 15))\n",
        "    \n",
        "    def take_xray(self, patient):\n",
        "        yield self.env.timeout(np.random.randint(15, 25))\n",
        "    \n",
        "    def consult_patient(self, patient):\n",
        "        yield self.env.timeout(np.random.randint(10, 20))\n"
      ]
    },
    {
      "cell_type": "code",
      "execution_count": null,
      "metadata": {
        "id": "cgneJhYZqoX5"
      },
      "outputs": [],
      "source": [
        "def go_to_hospital(env, patient, hospital):\n",
        "    # Patient arrives at the hospital\n",
        "    arrival_time = env.now\n",
        "\n",
        "    with hospital.nurse.request() as request:\n",
        "        yield request\n",
        "        print(f\"Nurse starts checking vitals of patient {patient} at {env.now}\")\n",
        "        yield env.process(hospital.check_vitals(patient))\n",
        "        print(f\"Nurse finished checking patient {patient} at {env.now}\")\n",
        "    \n",
        "    if np.random.choice([True, False], p=[.5, .5]):\n",
        "        with hospital.radiologist.request() as request:\n",
        "            yield request\n",
        "            print(f\"Radiologist takes xray of patient {patient} at {env.now}\")\n",
        "            yield env.process(hospital.take_xray(patient))\n",
        "            print(f\"Radiologist releases patient {patient} at {env.now}\")\n",
        "\n",
        "    with hospital.specialist.request() as request:\n",
        "        yield request\n",
        "        print(f\"Specialist starts consult with patient {patient} at {env.now}\")\n",
        "        yield env.process(hospital.consult_patient(patient))\n",
        "        print(f\"Specialist finished consult with patient {patient} at {env.now}\")\n",
        "\n",
        "    # Patient goes home\n",
        "    finish_time = env.now\n",
        "    process_time = finish_time - arrival_time\n",
        "    print(f\">> Patient {patient} started at {arrival_time} and left at {finish_time} with total process time {process_time}\")\n",
        "    process_times.append(process_time)\n"
      ]
    },
    {
      "cell_type": "code",
      "execution_count": null,
      "metadata": {
        "id": "vlvsyoeIqoX6"
      },
      "outputs": [],
      "source": [
        "def run_hospital(env, num_nurses, num_radiologists, num_specialists):\n",
        "    hospital = Hospital(env, num_nurses, num_radiologists, num_specialists)\n",
        "    \n",
        "    for patient in range(3):\n",
        "        env.process(go_to_hospital(env, patient, hospital))\n",
        "\n",
        "    while True:\n",
        "        yield env.timeout(0.20)  # Wait a bit before generating a new patient\n",
        "\n",
        "        patient += 1\n",
        "        env.process(go_to_hospital(env, patient, hospital))\n"
      ]
    },
    {
      "cell_type": "code",
      "execution_count": null,
      "metadata": {
        "id": "Qg0bKX2dqoX7"
      },
      "outputs": [],
      "source": [
        "def assess_process_quality(process_times):\n",
        "    average_process = statistics.mean(process_times)\n",
        "    num_patients = len(process_times)\n",
        "    return average_process, num_patients\n"
      ]
    },
    {
      "cell_type": "code",
      "execution_count": null,
      "metadata": {
        "id": "vwEtjBHyqoX8"
      },
      "outputs": [],
      "source": [
        "def main(params):\n",
        "    # Setup\n",
        "    np.random.seed(42)\n",
        "    num_nurses, num_radiologists, num_specialists = params\n",
        "\n",
        "    # Run the simulation\n",
        "    env = simpy.Environment()\n",
        "    env.process(run_hospital(env, num_nurses, num_radiologists, num_specialists))\n",
        "    print(\"Running simulation...\")\n",
        "    env.run(until=90)\n",
        "\n",
        "    # View the results\n",
        "    average_process, num_patients = assess_process_quality(process_times)\n",
        "    print(f\"\\nThe average process time is {average_process} minutes with {num_patients} patients handled.\",)\n"
      ]
    },
    {
      "cell_type": "code",
      "execution_count": 1,
      "metadata": {
        "id": "ZqTbw9DyqoX9",
        "outputId": "dd9b4453-42cf-4da7-da6d-5761d1312140",
        "colab": {
          "base_uri": "https://localhost:8080/",
          "height": 182
        }
      },
      "outputs": [
        {
          "output_type": "error",
          "ename": "NameError",
          "evalue": "ignored",
          "traceback": [
            "\u001b[0;31m---------------------------------------------------------------------------\u001b[0m",
            "\u001b[0;31mNameError\u001b[0m                                 Traceback (most recent call last)",
            "\u001b[0;32m<ipython-input-1-460e8d4948a2>\u001b[0m in \u001b[0;36m<module>\u001b[0;34m\u001b[0m\n\u001b[1;32m      1\u001b[0m \u001b[0mparams\u001b[0m\u001b[0;34m=\u001b[0m\u001b[0;34m[\u001b[0m\u001b[0;36m1\u001b[0m\u001b[0;34m,\u001b[0m\u001b[0;36m1\u001b[0m\u001b[0;34m,\u001b[0m\u001b[0;36m1\u001b[0m\u001b[0;34m]\u001b[0m\u001b[0;34m\u001b[0m\u001b[0;34m\u001b[0m\u001b[0m\n\u001b[0;32m----> 2\u001b[0;31m \u001b[0mmain\u001b[0m\u001b[0;34m(\u001b[0m\u001b[0mparams\u001b[0m\u001b[0;34m)\u001b[0m\u001b[0;34m\u001b[0m\u001b[0;34m\u001b[0m\u001b[0m\n\u001b[0m",
            "\u001b[0;31mNameError\u001b[0m: name 'main' is not defined"
          ]
        }
      ],
      "source": [
        "params=[1,1,1]\n",
        "main(params)\n"
      ]
    }
  ],
  "metadata": {
    "interpreter": {
      "hash": "09508e5c0e133f151fe034ab66c03d2c5b5e4f72ca762749241202b570b3f94f"
    },
    "kernelspec": {
      "display_name": "Python 3.10.4 ('simulation')",
      "language": "python",
      "name": "python3"
    },
    "language_info": {
      "codemirror_mode": {
        "name": "ipython",
        "version": 3
      },
      "file_extension": ".py",
      "mimetype": "text/x-python",
      "name": "python",
      "nbconvert_exporter": "python",
      "pygments_lexer": "ipython3",
      "version": "3.10.4"
    },
    "orig_nbformat": 4,
    "colab": {
      "provenance": []
    }
  },
  "nbformat": 4,
  "nbformat_minor": 0
}